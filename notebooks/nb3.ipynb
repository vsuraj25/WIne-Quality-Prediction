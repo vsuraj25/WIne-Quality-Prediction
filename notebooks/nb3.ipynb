{
 "cells": [],
 "metadata": {
  "kernelspec": {
   "display_name": "Python 3",
   "language": "python",
   "name": "python3"
  },
  "language_info": {
   "codemirror_mode": {
    "name": "ipython",
    "version": 3
   },
   "file_extension": ".py",
   "mimetype": "text/x-python",
   "name": "python",
   "nbconvert_exporter": "python",
   "pygments_lexer": "ipython3",
   "version": "3.7.15"
  },
  "orig_nbformat": 4,
  "vscode": {
   "interpreter": {
    "hash": "66c36b0aefc7871718a4bc85f7e3ad40ca0613536c504a7876114dbdd17a2901"
   }
  }
 },
 "nbformat": 4,
 "nbformat_minor": 2
}
